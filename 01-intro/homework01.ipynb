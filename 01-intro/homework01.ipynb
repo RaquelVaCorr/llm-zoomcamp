{
 "cells": [
  {
   "cell_type": "code",
   "execution_count": 1,
   "id": "6bd489dc-0d70-4e4f-aa22-a791dcf359cc",
   "metadata": {},
   "outputs": [],
   "source": [
    "import os\n",
    "from openai import OpenAI\n",
    "import openai"
   ]
  },
  {
   "cell_type": "code",
   "execution_count": 2,
   "id": "45696d0b-8417-40df-b0ce-6dbbfcec16ab",
   "metadata": {},
   "outputs": [],
   "source": [
    "client = OpenAI()"
   ]
  },
  {
   "cell_type": "code",
   "execution_count": 3,
   "id": "22b7425d-d886-4748-82c9-d242ca714fd6",
   "metadata": {},
   "outputs": [],
   "source": [
    "response = client.chat.completions.create(model='gpt-3.5-turbo',\n",
    "                               messages=[{\"role\":\"user\",\"content\":\"is it too late to join the course\"}])"
   ]
  },
  {
   "cell_type": "code",
   "execution_count": 4,
   "id": "56586d45-69d3-4792-b06f-f116eeece6e8",
   "metadata": {},
   "outputs": [
    {
     "data": {
      "text/plain": [
       "'It depends on the specific course and the policies of the institution offering it. You would need to contact the course provider to inquire about their enrollment deadlines and if there are any options for joining late.'"
      ]
     },
     "execution_count": 4,
     "metadata": {},
     "output_type": "execute_result"
    }
   ],
   "source": [
    "response.choices[0].message.content"
   ]
  },
  {
   "cell_type": "code",
   "execution_count": null,
   "id": "920b5be6-ae91-4110-8039-fb10d800a471",
   "metadata": {},
   "outputs": [],
   "source": []
  }
 ],
 "metadata": {
  "kernelspec": {
   "display_name": "Python 3 (ipykernel)",
   "language": "python",
   "name": "python3"
  },
  "language_info": {
   "codemirror_mode": {
    "name": "ipython",
    "version": 3
   },
   "file_extension": ".py",
   "mimetype": "text/x-python",
   "name": "python",
   "nbconvert_exporter": "python",
   "pygments_lexer": "ipython3",
   "version": "3.10.13"
  }
 },
 "nbformat": 4,
 "nbformat_minor": 5
}
